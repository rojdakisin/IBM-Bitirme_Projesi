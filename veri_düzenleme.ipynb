{
 "cells": [
  {
   "cell_type": "markdown",
   "id": "42e5bfa1-7c64-4b49-ba28-c99c9c5715f7",
   "metadata": {},
   "source": [
    "### **SpaceX Falcon 9 Birinci Aşama İniş Tahmini**\n",
    "\n",
    "\n",
    "### **Amaçlar (Objectives)**\n",
    "\n",
    "* Keşifsel Veri Analizi (Exploratory Data Analysis) yap\n",
    "* Eğitim Etiketlerini Belirle (Determine Training Labels)\n",
    "\n",
    "---\n",
    "\n",
    "### **Keşifsel Veri Analizi (Exploratory Data Analysis)**\n",
    "\n",
    "* Veriyi inceleyerek anlamlı bilgiler çıkar\n",
    "* Modeli eğitmek için kullanılacak etiketleri oluştur\n",
    "\n",
    "\n",
    "---\n",
    "\n",
    "### **Kütüphaneleri içe aktar ve yardımcı fonksiyonları tanımla**\n",
    "\n",
    "Bu analizde kullanmak üzere aşağıdaki kütüphaneleri Python’a dahil edeceğiz.\n",
    "\n"
   ]
  },
  {
   "cell_type": "code",
   "execution_count": 1,
   "id": "0316d702-8083-4f3a-ab51-d5a0abfe752d",
   "metadata": {},
   "outputs": [],
   "source": [
    "# Pandas, Python programlama dili için yazılmış, veri işleme ve analiz için kullanılan bir yazılım kütüphanesidir.\n",
    "import pandas as pd\n",
    "\n",
    "# NumPy, Python için yazılmış; büyük, çok boyutlu diziler ve matrisler ile çalışmayı kolaylaştıran bir kütüphanedir.\n",
    "# Ayrıca bu diziler üzerinde işlem yapmayı sağlayan birçok gelişmiş matematiksel fonksiyon içerir.\n",
    "import numpy as np\n"
   ]
  },
  {
   "cell_type": "markdown",
   "id": "36499728-39bf-4d57-b5c4-d1ac157c54ff",
   "metadata": {},
   "source": [
    "### Veri Analizi\n",
    "\n",
    "Önceki bölümden SpaceX veri setini yükle.\n"
   ]
  },
  {
   "cell_type": "code",
   "execution_count": 2,
   "id": "9a2e80f9-1d6f-4f33-81c2-d9b20494ad66",
   "metadata": {},
   "outputs": [
    {
     "data": {
      "text/html": [
       "<div>\n",
       "<style scoped>\n",
       "    .dataframe tbody tr th:only-of-type {\n",
       "        vertical-align: middle;\n",
       "    }\n",
       "\n",
       "    .dataframe tbody tr th {\n",
       "        vertical-align: top;\n",
       "    }\n",
       "\n",
       "    .dataframe thead th {\n",
       "        text-align: right;\n",
       "    }\n",
       "</style>\n",
       "<table border=\"1\" class=\"dataframe\">\n",
       "  <thead>\n",
       "    <tr style=\"text-align: right;\">\n",
       "      <th></th>\n",
       "      <th>FlightNumber</th>\n",
       "      <th>Date</th>\n",
       "      <th>BoosterVersion</th>\n",
       "      <th>PayloadMass</th>\n",
       "      <th>Orbit</th>\n",
       "      <th>LaunchSite</th>\n",
       "      <th>Outcome</th>\n",
       "      <th>Flights</th>\n",
       "      <th>GridFins</th>\n",
       "      <th>Reused</th>\n",
       "      <th>Legs</th>\n",
       "      <th>LandingPad</th>\n",
       "      <th>Block</th>\n",
       "      <th>ReusedCount</th>\n",
       "      <th>Serial</th>\n",
       "      <th>Longitude</th>\n",
       "      <th>Latitude</th>\n",
       "    </tr>\n",
       "  </thead>\n",
       "  <tbody>\n",
       "    <tr>\n",
       "      <th>0</th>\n",
       "      <td>1</td>\n",
       "      <td>2010-06-04</td>\n",
       "      <td>Falcon 9</td>\n",
       "      <td>6104.959412</td>\n",
       "      <td>LEO</td>\n",
       "      <td>CCAFS SLC 40</td>\n",
       "      <td>None None</td>\n",
       "      <td>1</td>\n",
       "      <td>False</td>\n",
       "      <td>False</td>\n",
       "      <td>False</td>\n",
       "      <td>NaN</td>\n",
       "      <td>1.0</td>\n",
       "      <td>0</td>\n",
       "      <td>B0003</td>\n",
       "      <td>-80.577366</td>\n",
       "      <td>28.561857</td>\n",
       "    </tr>\n",
       "    <tr>\n",
       "      <th>1</th>\n",
       "      <td>2</td>\n",
       "      <td>2012-05-22</td>\n",
       "      <td>Falcon 9</td>\n",
       "      <td>525.000000</td>\n",
       "      <td>LEO</td>\n",
       "      <td>CCAFS SLC 40</td>\n",
       "      <td>None None</td>\n",
       "      <td>1</td>\n",
       "      <td>False</td>\n",
       "      <td>False</td>\n",
       "      <td>False</td>\n",
       "      <td>NaN</td>\n",
       "      <td>1.0</td>\n",
       "      <td>0</td>\n",
       "      <td>B0005</td>\n",
       "      <td>-80.577366</td>\n",
       "      <td>28.561857</td>\n",
       "    </tr>\n",
       "    <tr>\n",
       "      <th>2</th>\n",
       "      <td>3</td>\n",
       "      <td>2013-03-01</td>\n",
       "      <td>Falcon 9</td>\n",
       "      <td>677.000000</td>\n",
       "      <td>ISS</td>\n",
       "      <td>CCAFS SLC 40</td>\n",
       "      <td>None None</td>\n",
       "      <td>1</td>\n",
       "      <td>False</td>\n",
       "      <td>False</td>\n",
       "      <td>False</td>\n",
       "      <td>NaN</td>\n",
       "      <td>1.0</td>\n",
       "      <td>0</td>\n",
       "      <td>B0007</td>\n",
       "      <td>-80.577366</td>\n",
       "      <td>28.561857</td>\n",
       "    </tr>\n",
       "    <tr>\n",
       "      <th>3</th>\n",
       "      <td>4</td>\n",
       "      <td>2013-09-29</td>\n",
       "      <td>Falcon 9</td>\n",
       "      <td>500.000000</td>\n",
       "      <td>PO</td>\n",
       "      <td>VAFB SLC 4E</td>\n",
       "      <td>False Ocean</td>\n",
       "      <td>1</td>\n",
       "      <td>False</td>\n",
       "      <td>False</td>\n",
       "      <td>False</td>\n",
       "      <td>NaN</td>\n",
       "      <td>1.0</td>\n",
       "      <td>0</td>\n",
       "      <td>B1003</td>\n",
       "      <td>-120.610829</td>\n",
       "      <td>34.632093</td>\n",
       "    </tr>\n",
       "    <tr>\n",
       "      <th>4</th>\n",
       "      <td>5</td>\n",
       "      <td>2013-12-03</td>\n",
       "      <td>Falcon 9</td>\n",
       "      <td>3170.000000</td>\n",
       "      <td>GTO</td>\n",
       "      <td>CCAFS SLC 40</td>\n",
       "      <td>None None</td>\n",
       "      <td>1</td>\n",
       "      <td>False</td>\n",
       "      <td>False</td>\n",
       "      <td>False</td>\n",
       "      <td>NaN</td>\n",
       "      <td>1.0</td>\n",
       "      <td>0</td>\n",
       "      <td>B1004</td>\n",
       "      <td>-80.577366</td>\n",
       "      <td>28.561857</td>\n",
       "    </tr>\n",
       "    <tr>\n",
       "      <th>5</th>\n",
       "      <td>6</td>\n",
       "      <td>2014-01-06</td>\n",
       "      <td>Falcon 9</td>\n",
       "      <td>3325.000000</td>\n",
       "      <td>GTO</td>\n",
       "      <td>CCAFS SLC 40</td>\n",
       "      <td>None None</td>\n",
       "      <td>1</td>\n",
       "      <td>False</td>\n",
       "      <td>False</td>\n",
       "      <td>False</td>\n",
       "      <td>NaN</td>\n",
       "      <td>1.0</td>\n",
       "      <td>0</td>\n",
       "      <td>B1005</td>\n",
       "      <td>-80.577366</td>\n",
       "      <td>28.561857</td>\n",
       "    </tr>\n",
       "    <tr>\n",
       "      <th>6</th>\n",
       "      <td>7</td>\n",
       "      <td>2014-04-18</td>\n",
       "      <td>Falcon 9</td>\n",
       "      <td>2296.000000</td>\n",
       "      <td>ISS</td>\n",
       "      <td>CCAFS SLC 40</td>\n",
       "      <td>True Ocean</td>\n",
       "      <td>1</td>\n",
       "      <td>False</td>\n",
       "      <td>False</td>\n",
       "      <td>True</td>\n",
       "      <td>NaN</td>\n",
       "      <td>1.0</td>\n",
       "      <td>0</td>\n",
       "      <td>B1006</td>\n",
       "      <td>-80.577366</td>\n",
       "      <td>28.561857</td>\n",
       "    </tr>\n",
       "    <tr>\n",
       "      <th>7</th>\n",
       "      <td>8</td>\n",
       "      <td>2014-07-14</td>\n",
       "      <td>Falcon 9</td>\n",
       "      <td>1316.000000</td>\n",
       "      <td>LEO</td>\n",
       "      <td>CCAFS SLC 40</td>\n",
       "      <td>True Ocean</td>\n",
       "      <td>1</td>\n",
       "      <td>False</td>\n",
       "      <td>False</td>\n",
       "      <td>True</td>\n",
       "      <td>NaN</td>\n",
       "      <td>1.0</td>\n",
       "      <td>0</td>\n",
       "      <td>B1007</td>\n",
       "      <td>-80.577366</td>\n",
       "      <td>28.561857</td>\n",
       "    </tr>\n",
       "    <tr>\n",
       "      <th>8</th>\n",
       "      <td>9</td>\n",
       "      <td>2014-08-05</td>\n",
       "      <td>Falcon 9</td>\n",
       "      <td>4535.000000</td>\n",
       "      <td>GTO</td>\n",
       "      <td>CCAFS SLC 40</td>\n",
       "      <td>None None</td>\n",
       "      <td>1</td>\n",
       "      <td>False</td>\n",
       "      <td>False</td>\n",
       "      <td>False</td>\n",
       "      <td>NaN</td>\n",
       "      <td>1.0</td>\n",
       "      <td>0</td>\n",
       "      <td>B1008</td>\n",
       "      <td>-80.577366</td>\n",
       "      <td>28.561857</td>\n",
       "    </tr>\n",
       "    <tr>\n",
       "      <th>9</th>\n",
       "      <td>10</td>\n",
       "      <td>2014-09-07</td>\n",
       "      <td>Falcon 9</td>\n",
       "      <td>4428.000000</td>\n",
       "      <td>GTO</td>\n",
       "      <td>CCAFS SLC 40</td>\n",
       "      <td>None None</td>\n",
       "      <td>1</td>\n",
       "      <td>False</td>\n",
       "      <td>False</td>\n",
       "      <td>False</td>\n",
       "      <td>NaN</td>\n",
       "      <td>1.0</td>\n",
       "      <td>0</td>\n",
       "      <td>B1011</td>\n",
       "      <td>-80.577366</td>\n",
       "      <td>28.561857</td>\n",
       "    </tr>\n",
       "  </tbody>\n",
       "</table>\n",
       "</div>"
      ],
      "text/plain": [
       "   FlightNumber        Date BoosterVersion  PayloadMass Orbit    LaunchSite  \\\n",
       "0             1  2010-06-04       Falcon 9  6104.959412   LEO  CCAFS SLC 40   \n",
       "1             2  2012-05-22       Falcon 9   525.000000   LEO  CCAFS SLC 40   \n",
       "2             3  2013-03-01       Falcon 9   677.000000   ISS  CCAFS SLC 40   \n",
       "3             4  2013-09-29       Falcon 9   500.000000    PO   VAFB SLC 4E   \n",
       "4             5  2013-12-03       Falcon 9  3170.000000   GTO  CCAFS SLC 40   \n",
       "5             6  2014-01-06       Falcon 9  3325.000000   GTO  CCAFS SLC 40   \n",
       "6             7  2014-04-18       Falcon 9  2296.000000   ISS  CCAFS SLC 40   \n",
       "7             8  2014-07-14       Falcon 9  1316.000000   LEO  CCAFS SLC 40   \n",
       "8             9  2014-08-05       Falcon 9  4535.000000   GTO  CCAFS SLC 40   \n",
       "9            10  2014-09-07       Falcon 9  4428.000000   GTO  CCAFS SLC 40   \n",
       "\n",
       "       Outcome  Flights  GridFins  Reused   Legs LandingPad  Block  \\\n",
       "0    None None        1     False   False  False        NaN    1.0   \n",
       "1    None None        1     False   False  False        NaN    1.0   \n",
       "2    None None        1     False   False  False        NaN    1.0   \n",
       "3  False Ocean        1     False   False  False        NaN    1.0   \n",
       "4    None None        1     False   False  False        NaN    1.0   \n",
       "5    None None        1     False   False  False        NaN    1.0   \n",
       "6   True Ocean        1     False   False   True        NaN    1.0   \n",
       "7   True Ocean        1     False   False   True        NaN    1.0   \n",
       "8    None None        1     False   False  False        NaN    1.0   \n",
       "9    None None        1     False   False  False        NaN    1.0   \n",
       "\n",
       "   ReusedCount Serial   Longitude   Latitude  \n",
       "0            0  B0003  -80.577366  28.561857  \n",
       "1            0  B0005  -80.577366  28.561857  \n",
       "2            0  B0007  -80.577366  28.561857  \n",
       "3            0  B1003 -120.610829  34.632093  \n",
       "4            0  B1004  -80.577366  28.561857  \n",
       "5            0  B1005  -80.577366  28.561857  \n",
       "6            0  B1006  -80.577366  28.561857  \n",
       "7            0  B1007  -80.577366  28.561857  \n",
       "8            0  B1008  -80.577366  28.561857  \n",
       "9            0  B1011  -80.577366  28.561857  "
      ]
     },
     "execution_count": 2,
     "metadata": {},
     "output_type": "execute_result"
    }
   ],
   "source": [
    "df=pd.read_csv(\"https://cf-courses-data.s3.us.cloud-object-storage.appdomain.cloud/IBM-DS0321EN-SkillsNetwork/datasets/dataset_part_1.csv\")\n",
    "df.head(10)"
   ]
  },
  {
   "cell_type": "markdown",
   "id": "7538028a-47bc-4d51-8737-3822133ce914",
   "metadata": {},
   "source": [
    "Her bir özellikteki (attribute) eksik değerleri tespit et ve yüzdesini hesapla.\n"
   ]
  },
  {
   "cell_type": "code",
   "execution_count": 3,
   "id": "19dc83e9-c88d-4e2d-b693-27c0931a1ad4",
   "metadata": {},
   "outputs": [
    {
     "data": {
      "text/plain": [
       "FlightNumber       0.000000\n",
       "Date               0.000000\n",
       "BoosterVersion     0.000000\n",
       "PayloadMass        0.000000\n",
       "Orbit              0.000000\n",
       "LaunchSite         0.000000\n",
       "Outcome            0.000000\n",
       "Flights            0.000000\n",
       "GridFins           0.000000\n",
       "Reused             0.000000\n",
       "Legs               0.000000\n",
       "LandingPad        28.888889\n",
       "Block              0.000000\n",
       "ReusedCount        0.000000\n",
       "Serial             0.000000\n",
       "Longitude          0.000000\n",
       "Latitude           0.000000\n",
       "dtype: float64"
      ]
     },
     "execution_count": 3,
     "metadata": {},
     "output_type": "execute_result"
    }
   ],
   "source": [
    "df.isnull().sum()/len(df)*100"
   ]
  },
  {
   "cell_type": "markdown",
   "id": "bc479c2a-d3df-4857-92cb-cbc3967b5dcd",
   "metadata": {},
   "source": [
    "Hangi sütunların sayısal (numerical) ve hangi sütunların kategorik (categorical) olduğunu belirle.\n"
   ]
  },
  {
   "cell_type": "code",
   "execution_count": 4,
   "id": "2e29be37-f6a2-4386-9661-8d79ec648aa7",
   "metadata": {},
   "outputs": [
    {
     "data": {
      "text/plain": [
       "FlightNumber        int64\n",
       "Date               object\n",
       "BoosterVersion     object\n",
       "PayloadMass       float64\n",
       "Orbit              object\n",
       "LaunchSite         object\n",
       "Outcome            object\n",
       "Flights             int64\n",
       "GridFins             bool\n",
       "Reused               bool\n",
       "Legs                 bool\n",
       "LandingPad         object\n",
       "Block             float64\n",
       "ReusedCount         int64\n",
       "Serial             object\n",
       "Longitude         float64\n",
       "Latitude          float64\n",
       "dtype: object"
      ]
     },
     "execution_count": 4,
     "metadata": {},
     "output_type": "execute_result"
    }
   ],
   "source": [
    "df.dtypes"
   ]
  },
  {
   "cell_type": "markdown",
   "id": "2e039d42-5093-478b-82f3-fefc02cc33ce",
   "metadata": {},
   "source": [
    "### GÖREV 1: Her fırlatma sahasındaki fırlatma sayısını hesapla\n",
    "\n",
    "Veri seti, birkaç farklı SpaceX fırlatma tesisini içermektedir:\n",
    "\n",
    "* **Cape Canaveral Space Launch Complex 40**,\n",
    "* **Vandenberg Air Force Base Space Launch Complex 4E (SLC-4E)**\n",
    "* **Kennedy Space Center Launch Complex 39A (KSC LC 39A)**\n",
    "\n",
    "Her fırlatmanın yeri, **LaunchSite** sütununda yer almaktadır.\n",
    "\n",
    "---\n",
    "\n",
    "Şimdi her bir fırlatma sahasında kaç kez fırlatma yapıldığını görelim.\n",
    "\n",
    "**LaunchSite** sütununda `.value_counts()` metodunu kullanarak her saha için fırlatma sayısını belirle:\n"
   ]
  },
  {
   "cell_type": "code",
   "execution_count": 5,
   "id": "1fb2afd6-5f1f-49cf-8ad7-84a554daaee6",
   "metadata": {},
   "outputs": [
    {
     "data": {
      "text/plain": [
       "LaunchSite\n",
       "CCAFS SLC 40    55\n",
       "KSC LC 39A      22\n",
       "VAFB SLC 4E     13\n",
       "Name: count, dtype: int64"
      ]
     },
     "execution_count": 5,
     "metadata": {},
     "output_type": "execute_result"
    }
   ],
   "source": [
    "df['LaunchSite'].value_counts()"
   ]
  },
  {
   "cell_type": "markdown",
   "id": "fdeb1822-910e-4315-ac3b-e805b1a004ef",
   "metadata": {},
   "source": [
    "Her fırlatma, belirli bir yörüngeye ulaşmayı hedefler ve işte bazı yaygın yörünge türleri:\n",
    "\n",
    "**LEO (Alçak Dünya Yörüngesi):** LEO, Dünya merkezli ve 2.000 km (1.200 mil) ya da daha düşük irtifaya sahip bir yörüngedir (bu, Dünya yarıçapının yaklaşık üçte biri kadardır). Ayrıca günde en az 11.25 tur (128 dakikadan kısa bir yörünge süresi) yapan ve dışmerkezliği 0.25’ten az olan yörüngeler de LEO sınıfına girer. İnsan yapımı uzay nesnelerinin çoğu LEO’da bulunur.\n",
    "\n",
    "**VLEO (Çok Alçak Dünya Yörüngesi):** Ortalama irtifası 450 km’nin altında olan yörüngelerdir. Bu yörüngelerde çalışan Dünya gözlem uyduları, Dünya’ya daha yakın oldukları için gözlem açısından birçok avantaja sahip olabilir.\n",
    "\n",
    "**GTO (Jeosenkron Transfer Yörüngesi):** Jeosenkron yörünge, Dünya'nın dönüşüyle senkronize olan yüksek irtifalı bir yörüngedir. Dünya ekvatorunun 35.786 kilometre (22.236 mil) yukarısında bulunur. Bu yörünge konumu, hava durumu izleme, iletişim ve gözetleme açısından çok değerlidir. Uydu, Dünya’nın dönüş hızına eşit bir hızla döndüğü için, gökyüzünde sabit bir konumda gibi görünür.\n",
    "\n",
    "**SSO (Güneş Eşzamanlı Yörünge):** Hemen hemen kutupları kapsayan bu yörüngede uydu, Dünya üzerindeki herhangi bir noktadan her geçişinde aynı yerel güneş zamanında geçer. Bu yüzden Dünya gözlemleri için çok kullanışlıdır.\n",
    "\n",
    "**ES-L1 (Dünya-Güneş Lagrange Noktası 1):** Lagrange noktalarında, iki büyük kütlenin (örneğin Dünya ve Güneş) yerçekimi kuvvetleri, arada kalan küçük bir cismin dengede kalabileceği şekilde birbirini dengeler. L1 noktası, Güneş ile Dünya arasında yer alır ve genellikle Güneş gözlemi için tercih edilir.\n",
    "\n",
    "**HEO (Yüksek Eliptik Yörünge):** Dünya etrafında oldukça eliptik ve yüksek dışmerkezli yörüngelerdir. Genellikle yörüngenin bir ucunda Dünya’ya çok yaklaşırken diğer ucunda oldukça uzaklaşır.\n",
    "\n",
    "**ISS (Uluslararası Uzay İstasyonu):** LEO’da bulunan modüler bir uzay istasyonudur. NASA (ABD), Roscosmos (Rusya), JAXA (Japonya), ESA (Avrupa) ve CSA (Kanada) gibi beş uzay ajansının işbirliğiyle inşa edilmiştir ve yaşanabilir bir yapay uydu olarak görev yapmaktadır.\n",
    "\n",
    "**MEO (Orta Dünya Yörüngesi):** 2.000 km ile 35.786 km arasındaki irtifalarda yer alan jeosantrik yörüngelerdir. Genellikle 20.200 km veya 20.650 km yükseklikte bulunurlar ve yörünge süreleri yaklaşık 12 saattir.\n",
    "\n",
    "**HEO (Yüksek Dünya Yörüngesi):** 35.786 km’nin üzerindeki irtifalarda bulunan jeosantrik yörüngelerdir.\n",
    "\n",
    "**GEO (Jeostatik Yörünge):** Dünya’nın ekvatoru üzerinde 35.786 km yükseklikte, Dünya’nın dönüş yönüyle aynı yönde dönen dairesel yörüngedir. Uydu, Dünya’ya göre sabit bir noktada kalır.\n",
    "\n",
    "**PO (Kutup Yörüngesi):** Uydu, Dünya’nın kutuplarının üzerinden ya da çok yakınından geçer. Dünya’nın tamamını taramak için uygundur.\n"
   ]
  },
  {
   "cell_type": "markdown",
   "id": "a943e564-f53e-4dde-b7d3-8f9fbf202480",
   "metadata": {},
   "source": [
    "### Görev 2: Her yörünge türünün sayısını ve tekrarını hesaplayın\n",
    "Orbit sütunundaki her yörüngenin sayısını ve kaç kez geçtiğini belirlemek için `.value_counts()` metodunu kullanın.\n"
   ]
  },
  {
   "cell_type": "code",
   "execution_count": 7,
   "id": "f22fe157-a200-4e8d-924f-c1b137b34832",
   "metadata": {},
   "outputs": [
    {
     "data": {
      "text/plain": [
       "Orbit\n",
       "GTO      27\n",
       "ISS      21\n",
       "VLEO     14\n",
       "PO        9\n",
       "LEO       7\n",
       "SSO       5\n",
       "MEO       3\n",
       "ES-L1     1\n",
       "HEO       1\n",
       "SO        1\n",
       "GEO       1\n",
       "Name: count, dtype: int64"
      ]
     },
     "execution_count": 7,
     "metadata": {},
     "output_type": "execute_result"
    }
   ],
   "source": [
    "# Orbit sütunundaki her yörünge türünün sayısını hesapla\n",
    "df['Orbit'].value_counts()"
   ]
  },
  {
   "cell_type": "markdown",
   "id": "e1ba811c-2d39-4979-ad8c-a116be76dc45",
   "metadata": {},
   "source": [
    "### Görev 3: Yörüngelerin görev sonuçlarının sayısını ve tekrarını hesaplayın\n",
    "`Outcome` sütununda `.value_counts()` metodunu kullanarak iniş sonuçlarının (landing outcomes) sayısını belirleyin. Sonucu `landing_outcomes` değişkenine atayın.\n"
   ]
  },
  {
   "cell_type": "code",
   "execution_count": 8,
   "id": "7ab13eff-1a90-4476-817b-b47215c7f316",
   "metadata": {},
   "outputs": [],
   "source": [
    "# Outcome sütunundaki her görev sonucunun sayısını hesapla ve landing_outcomes değişkenine ata\n",
    "landing_outcomes = df['Outcome'].value_counts()"
   ]
  },
  {
   "cell_type": "markdown",
   "id": "ed3a915a-7ed0-4247-8caf-21943abeed8a",
   "metadata": {},
   "source": [
    "\n",
    "**True Ocean**, görevin başarıyla belirli bir okyanus bölgesine iniş yaptığını;\n",
    "\n",
    "**False Ocean**, görevin belirli bir okyanus bölgesine başarısız iniş yaptığını;\n",
    "\n",
    "**True RTLS**, görevin başarıyla bir kara iniş pistine iniş yaptığını;\n",
    "\n",
    "**False RTLS**, görevin bir kara iniş pistine başarısız iniş yaptığını;\n",
    "\n",
    "**True ASDS**, görevin başarıyla bir drone gemisine iniş yaptığını;\n",
    "\n",
    "**False ASDS**, görevin bir drone gemisine başarısız iniş yaptığını ifade eder.\n",
    "\n",
    "**None ASDS** ve **None None** ise inişin başarısız olduğunu gösterir.\n"
   ]
  },
  {
   "cell_type": "code",
   "execution_count": 9,
   "id": "8b2f9f3f-59f5-4b1a-a9ea-f82ec7c2614a",
   "metadata": {},
   "outputs": [
    {
     "name": "stdout",
     "output_type": "stream",
     "text": [
      "0 True ASDS\n",
      "1 None None\n",
      "2 True RTLS\n",
      "3 False ASDS\n",
      "4 True Ocean\n",
      "5 False Ocean\n",
      "6 None ASDS\n",
      "7 False RTLS\n"
     ]
    }
   ],
   "source": [
    "# landing_outcomes içindeki anahtarları (görev sonuçlarını) indeksleriyle beraber döngüyle gez\n",
    "for i, outcome in enumerate(landing_outcomes.keys()):\n",
    "    # İndeks ve görev sonucunu ekrana yazdır\n",
    "    print(i, outcome)"
   ]
  },
  {
   "cell_type": "markdown",
   "id": "2c48ff75-a6f8-46e9-bdf8-4373de076caa",
   "metadata": {},
   "source": [
    "İkinci aşamanın inişi başarılı olmayan sonuçlardan oluşan bir küme oluşturuyoruz:\n"
   ]
  },
  {
   "cell_type": "code",
   "execution_count": 10,
   "id": "15dfe02d-7f20-4302-b264-4901809f692f",
   "metadata": {},
   "outputs": [
    {
     "data": {
      "text/plain": [
       "{'False ASDS', 'False Ocean', 'False RTLS', 'None ASDS', 'None None'}"
      ]
     },
     "execution_count": 10,
     "metadata": {},
     "output_type": "execute_result"
    }
   ],
   "source": [
    "# landing_outcomes anahtarlarını alıyoruz (görev sonuçları)\n",
    "# Sonra indeksleri 1, 3, 5, 6 ve 7 olan öğeleri seçip set (küme) yapıyoruz\n",
    "bad_outcomes = set(landing_outcomes.keys()[ [1, 3, 5, 6, 7] ])\n",
    "\n",
    "# Oluşturduğumuz kötü sonuçlar kümesini yazdırıyoruz\n",
    "bad_outcomes"
   ]
  },
  {
   "cell_type": "markdown",
   "id": "06907c20-3310-49a6-bd4a-cd75a050cbb7",
   "metadata": {},
   "source": [
    "### Görev 4: Outcome sütunundan iniş sonucu etiketi oluşturun\n",
    "Outcome sütununu kullanarak, eğer ilgili satırdaki değer `bad_outcomes` kümesindeyse liste elemanı sıfır, değilse bir olacak şekilde bir liste oluşturun. Daha sonra bu listeyi `landing_class` değişkenine atayın.\n"
   ]
  },
  {
   "cell_type": "code",
   "execution_count": 11,
   "id": "cb5ed4a4-9701-48dd-8a92-e105cf7af7fa",
   "metadata": {},
   "outputs": [
    {
     "name": "stdout",
     "output_type": "stream",
     "text": [
      "[0, 0, 0, 0, 0, 0, 1, 1, 0, 0, 0, 0, 1, 0, 0, 0, 1, 0, 0, 1, 1, 1, 1, 1, 0, 1, 1, 0, 1, 1, 0, 1, 1, 1, 0, 1, 1, 1, 1, 1, 1, 1, 1, 1, 1, 0, 0, 0, 1, 1, 0, 0, 1, 1, 1, 1, 1, 1, 1, 0, 0, 1, 1, 1, 1, 1, 1, 0, 1, 1, 1, 1, 0, 1, 0, 1, 0, 1, 1, 1, 1, 1, 1, 1, 1, 1, 1, 1, 1, 1]\n"
     ]
    }
   ],
   "source": [
    "# landing_class elemanı 0 olacak eğer Outcome değeri bad_outcomes kümesindeyse\n",
    "# landing_class elemanı 1 olacak aksi halde\n",
    "\n",
    "landing_class = [0 if outcome in bad_outcomes else 1 for outcome in df['Outcome']]\n",
    "\n",
    "print(landing_class)\n"
   ]
  },
  {
   "cell_type": "markdown",
   "id": "4c801890-c187-418d-93a2-3c64cec25c9f",
   "metadata": {},
   "source": [
    "Bu değişken, her fırlatmanın sonucunu temsil eden sınıflandırma değişkeni olacaktır. Değer sıfır ise birinci aşama başarılı bir şekilde iniş yapmamış demektir; bir ise birinci aşama başarılı bir şekilde iniş yapmış demektir."
   ]
  },
  {
   "cell_type": "code",
   "execution_count": 12,
   "id": "d729b92a-66e7-4277-948f-4c2db5742f58",
   "metadata": {},
   "outputs": [
    {
     "name": "stdout",
     "output_type": "stream",
     "text": [
      "   Class\n",
      "0      0\n",
      "1      0\n",
      "2      0\n",
      "3      0\n",
      "4      0\n",
      "5      0\n",
      "6      1\n",
      "7      1\n"
     ]
    }
   ],
   "source": [
    "# landing_class listesini DataFrame'e 'Class' adıyla yeni bir sütun olarak ekle\n",
    "df['Class'] = landing_class\n",
    "\n",
    "# 'Class' sütununun ilk 8 satırını görüntüle\n",
    "print(df[['Class']].head(8))"
   ]
  },
  {
   "cell_type": "code",
   "execution_count": 13,
   "id": "78f1c51e-67b5-45b1-9d31-8acafce990b3",
   "metadata": {},
   "outputs": [
    {
     "data": {
      "text/html": [
       "<div>\n",
       "<style scoped>\n",
       "    .dataframe tbody tr th:only-of-type {\n",
       "        vertical-align: middle;\n",
       "    }\n",
       "\n",
       "    .dataframe tbody tr th {\n",
       "        vertical-align: top;\n",
       "    }\n",
       "\n",
       "    .dataframe thead th {\n",
       "        text-align: right;\n",
       "    }\n",
       "</style>\n",
       "<table border=\"1\" class=\"dataframe\">\n",
       "  <thead>\n",
       "    <tr style=\"text-align: right;\">\n",
       "      <th></th>\n",
       "      <th>FlightNumber</th>\n",
       "      <th>Date</th>\n",
       "      <th>BoosterVersion</th>\n",
       "      <th>PayloadMass</th>\n",
       "      <th>Orbit</th>\n",
       "      <th>LaunchSite</th>\n",
       "      <th>Outcome</th>\n",
       "      <th>Flights</th>\n",
       "      <th>GridFins</th>\n",
       "      <th>Reused</th>\n",
       "      <th>Legs</th>\n",
       "      <th>LandingPad</th>\n",
       "      <th>Block</th>\n",
       "      <th>ReusedCount</th>\n",
       "      <th>Serial</th>\n",
       "      <th>Longitude</th>\n",
       "      <th>Latitude</th>\n",
       "      <th>Class</th>\n",
       "    </tr>\n",
       "  </thead>\n",
       "  <tbody>\n",
       "    <tr>\n",
       "      <th>0</th>\n",
       "      <td>1</td>\n",
       "      <td>2010-06-04</td>\n",
       "      <td>Falcon 9</td>\n",
       "      <td>6104.959412</td>\n",
       "      <td>LEO</td>\n",
       "      <td>CCAFS SLC 40</td>\n",
       "      <td>None None</td>\n",
       "      <td>1</td>\n",
       "      <td>False</td>\n",
       "      <td>False</td>\n",
       "      <td>False</td>\n",
       "      <td>NaN</td>\n",
       "      <td>1.0</td>\n",
       "      <td>0</td>\n",
       "      <td>B0003</td>\n",
       "      <td>-80.577366</td>\n",
       "      <td>28.561857</td>\n",
       "      <td>0</td>\n",
       "    </tr>\n",
       "    <tr>\n",
       "      <th>1</th>\n",
       "      <td>2</td>\n",
       "      <td>2012-05-22</td>\n",
       "      <td>Falcon 9</td>\n",
       "      <td>525.000000</td>\n",
       "      <td>LEO</td>\n",
       "      <td>CCAFS SLC 40</td>\n",
       "      <td>None None</td>\n",
       "      <td>1</td>\n",
       "      <td>False</td>\n",
       "      <td>False</td>\n",
       "      <td>False</td>\n",
       "      <td>NaN</td>\n",
       "      <td>1.0</td>\n",
       "      <td>0</td>\n",
       "      <td>B0005</td>\n",
       "      <td>-80.577366</td>\n",
       "      <td>28.561857</td>\n",
       "      <td>0</td>\n",
       "    </tr>\n",
       "    <tr>\n",
       "      <th>2</th>\n",
       "      <td>3</td>\n",
       "      <td>2013-03-01</td>\n",
       "      <td>Falcon 9</td>\n",
       "      <td>677.000000</td>\n",
       "      <td>ISS</td>\n",
       "      <td>CCAFS SLC 40</td>\n",
       "      <td>None None</td>\n",
       "      <td>1</td>\n",
       "      <td>False</td>\n",
       "      <td>False</td>\n",
       "      <td>False</td>\n",
       "      <td>NaN</td>\n",
       "      <td>1.0</td>\n",
       "      <td>0</td>\n",
       "      <td>B0007</td>\n",
       "      <td>-80.577366</td>\n",
       "      <td>28.561857</td>\n",
       "      <td>0</td>\n",
       "    </tr>\n",
       "    <tr>\n",
       "      <th>3</th>\n",
       "      <td>4</td>\n",
       "      <td>2013-09-29</td>\n",
       "      <td>Falcon 9</td>\n",
       "      <td>500.000000</td>\n",
       "      <td>PO</td>\n",
       "      <td>VAFB SLC 4E</td>\n",
       "      <td>False Ocean</td>\n",
       "      <td>1</td>\n",
       "      <td>False</td>\n",
       "      <td>False</td>\n",
       "      <td>False</td>\n",
       "      <td>NaN</td>\n",
       "      <td>1.0</td>\n",
       "      <td>0</td>\n",
       "      <td>B1003</td>\n",
       "      <td>-120.610829</td>\n",
       "      <td>34.632093</td>\n",
       "      <td>0</td>\n",
       "    </tr>\n",
       "    <tr>\n",
       "      <th>4</th>\n",
       "      <td>5</td>\n",
       "      <td>2013-12-03</td>\n",
       "      <td>Falcon 9</td>\n",
       "      <td>3170.000000</td>\n",
       "      <td>GTO</td>\n",
       "      <td>CCAFS SLC 40</td>\n",
       "      <td>None None</td>\n",
       "      <td>1</td>\n",
       "      <td>False</td>\n",
       "      <td>False</td>\n",
       "      <td>False</td>\n",
       "      <td>NaN</td>\n",
       "      <td>1.0</td>\n",
       "      <td>0</td>\n",
       "      <td>B1004</td>\n",
       "      <td>-80.577366</td>\n",
       "      <td>28.561857</td>\n",
       "      <td>0</td>\n",
       "    </tr>\n",
       "  </tbody>\n",
       "</table>\n",
       "</div>"
      ],
      "text/plain": [
       "   FlightNumber        Date BoosterVersion  PayloadMass Orbit    LaunchSite  \\\n",
       "0             1  2010-06-04       Falcon 9  6104.959412   LEO  CCAFS SLC 40   \n",
       "1             2  2012-05-22       Falcon 9   525.000000   LEO  CCAFS SLC 40   \n",
       "2             3  2013-03-01       Falcon 9   677.000000   ISS  CCAFS SLC 40   \n",
       "3             4  2013-09-29       Falcon 9   500.000000    PO   VAFB SLC 4E   \n",
       "4             5  2013-12-03       Falcon 9  3170.000000   GTO  CCAFS SLC 40   \n",
       "\n",
       "       Outcome  Flights  GridFins  Reused   Legs LandingPad  Block  \\\n",
       "0    None None        1     False   False  False        NaN    1.0   \n",
       "1    None None        1     False   False  False        NaN    1.0   \n",
       "2    None None        1     False   False  False        NaN    1.0   \n",
       "3  False Ocean        1     False   False  False        NaN    1.0   \n",
       "4    None None        1     False   False  False        NaN    1.0   \n",
       "\n",
       "   ReusedCount Serial   Longitude   Latitude  Class  \n",
       "0            0  B0003  -80.577366  28.561857      0  \n",
       "1            0  B0005  -80.577366  28.561857      0  \n",
       "2            0  B0007  -80.577366  28.561857      0  \n",
       "3            0  B1003 -120.610829  34.632093      0  \n",
       "4            0  B1004  -80.577366  28.561857      0  "
      ]
     },
     "execution_count": 13,
     "metadata": {},
     "output_type": "execute_result"
    }
   ],
   "source": [
    "df.head(5)"
   ]
  },
  {
   "cell_type": "markdown",
   "id": "f8ce35be-2a28-42fc-a5c4-684801829d9b",
   "metadata": {},
   "source": [
    "Aşağıdaki kod satırını kullanarak başarı oranını belirleyebiliriz:\n"
   ]
  },
  {
   "cell_type": "code",
   "execution_count": 14,
   "id": "f39b238d-9bd1-4c0a-a2b9-ac2c0e18960a",
   "metadata": {},
   "outputs": [
    {
     "data": {
      "text/plain": [
       "0.6666666666666666"
      ]
     },
     "execution_count": 14,
     "metadata": {},
     "output_type": "execute_result"
    }
   ],
   "source": [
    "df[\"Class\"].mean()"
   ]
  },
  {
   "cell_type": "markdown",
   "id": "e88107d9-81cd-4416-abd3-f2c533f498ca",
   "metadata": {},
   "source": [
    "Şimdi bunu bir sonraki bölüm için CSV dosyasına aktarabiliriz, ancak cevapların tutarlı olması için sonraki laboratuvarda verileri önceden seçilmiş bir tarih aralığında sağlayacağız."
   ]
  },
  {
   "cell_type": "code",
   "execution_count": 15,
   "id": "811a6036-390b-4681-ba11-8b08bc16f922",
   "metadata": {},
   "outputs": [],
   "source": [
    "df.to_csv(\"dataset_part_2.csv\", index=False)"
   ]
  },
  {
   "cell_type": "code",
   "execution_count": 16,
   "id": "d22675fd-90e7-48e1-a8b0-1269306d7634",
   "metadata": {},
   "outputs": [
    {
     "name": "stdout",
     "output_type": "stream",
     "text": [
      "Bir drone gemisine başarıyla inen görev sayısı: 41\n"
     ]
    }
   ],
   "source": [
    "# True ASDS olan görevlerin sayısı\n",
    "successful_asds = (df['Outcome'] == 'True ASDS').sum()\n",
    "\n",
    "print(f\"Bir drone gemisine başarıyla inen görev sayısı: {successful_asds}\")\n"
   ]
  },
  {
   "cell_type": "code",
   "execution_count": null,
   "id": "3cb91789-6653-439f-a7a7-d4eb52e1bd2c",
   "metadata": {},
   "outputs": [],
   "source": []
  }
 ],
 "metadata": {
  "kernelspec": {
   "display_name": "Python 3 (ipykernel)",
   "language": "python",
   "name": "python3"
  },
  "language_info": {
   "codemirror_mode": {
    "name": "ipython",
    "version": 3
   },
   "file_extension": ".py",
   "mimetype": "text/x-python",
   "name": "python",
   "nbconvert_exporter": "python",
   "pygments_lexer": "ipython3",
   "version": "3.12.7"
  }
 },
 "nbformat": 4,
 "nbformat_minor": 5
}
