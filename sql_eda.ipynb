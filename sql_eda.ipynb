{
 "cells": [
  {
   "cell_type": "markdown",
   "id": "b542077e-e56a-44c5-869e-316bd1da7e97",
   "metadata": {},
   "source": [
    "\n",
    "**Ödev: Eşli Değerlendirme için SQL Not Defteri**\n",
    "\n",
    "---\n",
    "\n",
    "### **Giriş**\n",
    "\n",
    "Bu Python not defteri ile şunları yapacaksınız:\n",
    "\n",
    "* SpaceX Veri Setini anlayacaksınız\n",
    "* Veri setini bir Db2 veritabanındaki ilgili tabloya yükleyeceksiniz\n",
    "* Ödev sorularını yanıtlamak için SQL sorguları çalıştıracaksınız\n",
    "\n",
    "---\n",
    "\n",
    "### **Veri Setine Genel Bakış**\n",
    "\n",
    "SpaceX, bir dizi tarihi başarı ile dünya çapında dikkat çekmiştir.\n",
    "\n",
    "Aralık 2010’da alçak dünya yörüngesinden bir uzay aracını geri getiren ilk özel şirket olmuştur. SpaceX, Falcon 9 roket fırlatmalarını web sitesinde 62 milyon dolara reklam ederken, diğer sağlayıcılar her biri için 165 milyon doları aşan maliyetler talep etmektedir. Bu maliyet farkının çoğu, SpaceX’in ilk aşamayı tekrar kullanabilmesinden kaynaklanmaktadır.\n",
    "\n",
    "Bu nedenle, eğer ilk aşamanın iniş yapıp yapmayacağını belirleyebilirsek, bir fırlatmanın maliyetini de tahmin edebiliriz.\n",
    "\n",
    "Bu bilgi, SpaceX’e karşı bir roket fırlatması için teklif vermek isteyen alternatif bir şirket tarafından kullanılabilir.\n",
    "\n",
    "Bu veri seti, SpaceX’in uzaya taşıdığı her bir yük için bir kayıt içermektedir.\n",
    "\n",
    "---\n",
    "\n",
    "### **Veri Setini İndirin**\n",
    "\n",
    "Bu ödev, SpaceX veri setinin yüklenmesini gerektirir.\n",
    "\n",
    "Çoğu durumda analiz edilecek veri seti, internetten indirilebilecek bir .CSV (virgülle ayrılmış değerler) dosyası olarak sunulur. Aşağıdaki bağlantıya tıklayarak veri setini (.CSV dosyası) indirebilir ve kaydedebilirsiniz:\n",
    "\n",
    "**SpaceX Veri Seti**\n"
   ]
  },
  {
   "cell_type": "code",
   "execution_count": 1,
   "id": "b22bc567-e892-4e58-ab43-4f0c0cb40af3",
   "metadata": {},
   "outputs": [
    {
     "name": "stdout",
     "output_type": "stream",
     "text": [
      "Defaulting to user installation because normal site-packages is not writeable\n",
      "Collecting sqlalchemy==1.3.9\n",
      "  Downloading SQLAlchemy-1.3.9.tar.gz (6.0 MB)\n",
      "     ---------------------------------------- 0.0/6.0 MB ? eta -:--:--\n",
      "     ---------------------------------------- 0.0/6.0 MB ? eta -:--:--\n",
      "     - -------------------------------------- 0.3/6.0 MB ? eta -:--:--\n",
      "     ------- -------------------------------- 1.0/6.0 MB 2.5 MB/s eta 0:00:02\n",
      "     ---------- ----------------------------- 1.6/6.0 MB 2.6 MB/s eta 0:00:02\n",
      "     -------------- ------------------------- 2.1/6.0 MB 2.3 MB/s eta 0:00:02\n",
      "     ----------------- ---------------------- 2.6/6.0 MB 2.2 MB/s eta 0:00:02\n",
      "     ------------------- -------------------- 2.9/6.0 MB 2.1 MB/s eta 0:00:02\n",
      "     --------------------- ------------------ 3.1/6.0 MB 2.0 MB/s eta 0:00:02\n",
      "     ------------------------ --------------- 3.7/6.0 MB 2.0 MB/s eta 0:00:02\n",
      "     -------------------------- ------------- 3.9/6.0 MB 2.0 MB/s eta 0:00:02\n",
      "     ----------------------------- ---------- 4.5/6.0 MB 2.0 MB/s eta 0:00:01\n",
      "     ------------------------------- -------- 4.7/6.0 MB 2.0 MB/s eta 0:00:01\n",
      "     ----------------------------------- ---- 5.2/6.0 MB 1.9 MB/s eta 0:00:01\n",
      "     ------------------------------------ --- 5.5/6.0 MB 1.9 MB/s eta 0:00:01\n",
      "     ---------------------------------------- 6.0/6.0 MB 1.9 MB/s eta 0:00:00\n",
      "  Preparing metadata (setup.py): started\n",
      "  Preparing metadata (setup.py): finished with status 'done'\n",
      "Building wheels for collected packages: sqlalchemy\n",
      "  Building wheel for sqlalchemy (setup.py): started\n",
      "  Building wheel for sqlalchemy (setup.py): finished with status 'done'\n",
      "  Created wheel for sqlalchemy: filename=SQLAlchemy-1.3.9-cp312-cp312-win_amd64.whl size=1142950 sha256=91c5ef4bbf3461705eee613a15babcbd9d87dcbe61c40b3e1320fae63ad46d17\n",
      "  Stored in directory: c:\\users\\lenovo\\appdata\\local\\pip\\cache\\wheels\\b3\\1c\\42\\0e26b8d512adc6bce10ff71a05229366b4ccec641cd3b42111\n",
      "Successfully built sqlalchemy\n",
      "Installing collected packages: sqlalchemy\n",
      "Successfully installed sqlalchemy-1.3.9\n"
     ]
    }
   ],
   "source": [
    "!pip install sqlalchemy==1.3.9"
   ]
  },
  {
   "cell_type": "markdown",
   "id": "cb4ec2a7-3bfb-41e3-aaf0-da61d36fc7f2",
   "metadata": {},
   "source": [
    "**Veritabanına Bağlan**\n",
    "\n",
    "Öncelikle SQL uzantısını yükleyelim ve veritabanı ile bir bağlantı kuralım.\n"
   ]
  },
  {
   "cell_type": "code",
   "execution_count": 2,
   "id": "080860b3-c8dc-44a3-9177-f5b86e3adef5",
   "metadata": {},
   "outputs": [
    {
     "name": "stdout",
     "output_type": "stream",
     "text": [
      "Defaulting to user installation because normal site-packages is not writeable"
     ]
    },
    {
     "name": "stderr",
     "output_type": "stream",
     "text": [
      "  WARNING: The script sqlformat.exe is installed in 'C:\\Users\\Lenovo\\AppData\\Roaming\\Python\\Python312\\Scripts' which is not on PATH.\n",
      "  Consider adding this directory to PATH or, if you prefer to suppress this warning, use --no-warn-script-location.\n"
     ]
    },
    {
     "name": "stdout",
     "output_type": "stream",
     "text": [
      "\n",
      "Collecting ipython-sql\n",
      "  Downloading ipython_sql-0.5.0-py3-none-any.whl.metadata (17 kB)\n",
      "Collecting prettytable (from ipython-sql)\n",
      "  Downloading prettytable-3.16.0-py3-none-any.whl.metadata (33 kB)\n",
      "Requirement already satisfied: ipython in c:\\programdata\\anaconda3\\lib\\site-packages (from ipython-sql) (8.27.0)\n",
      "Collecting sqlalchemy>=2.0 (from ipython-sql)\n",
      "  Downloading sqlalchemy-2.0.42-cp312-cp312-win_amd64.whl.metadata (9.8 kB)\n",
      "Collecting sqlparse (from ipython-sql)\n",
      "  Downloading sqlparse-0.5.3-py3-none-any.whl.metadata (3.9 kB)\n",
      "Requirement already satisfied: six in c:\\programdata\\anaconda3\\lib\\site-packages (from ipython-sql) (1.16.0)\n",
      "Requirement already satisfied: ipython-genutils in c:\\programdata\\anaconda3\\lib\\site-packages (from ipython-sql) (0.2.0)\n",
      "Requirement already satisfied: greenlet>=1 in c:\\programdata\\anaconda3\\lib\\site-packages (from sqlalchemy>=2.0->ipython-sql) (3.0.1)\n",
      "Requirement already satisfied: typing-extensions>=4.6.0 in c:\\programdata\\anaconda3\\lib\\site-packages (from sqlalchemy>=2.0->ipython-sql) (4.11.0)\n",
      "Requirement already satisfied: decorator in c:\\programdata\\anaconda3\\lib\\site-packages (from ipython->ipython-sql) (5.1.1)\n",
      "Requirement already satisfied: jedi>=0.16 in c:\\programdata\\anaconda3\\lib\\site-packages (from ipython->ipython-sql) (0.19.1)\n",
      "Requirement already satisfied: matplotlib-inline in c:\\programdata\\anaconda3\\lib\\site-packages (from ipython->ipython-sql) (0.1.6)\n",
      "Requirement already satisfied: prompt-toolkit<3.1.0,>=3.0.41 in c:\\programdata\\anaconda3\\lib\\site-packages (from ipython->ipython-sql) (3.0.43)\n",
      "Requirement already satisfied: pygments>=2.4.0 in c:\\programdata\\anaconda3\\lib\\site-packages (from ipython->ipython-sql) (2.15.1)\n",
      "Requirement already satisfied: stack-data in c:\\programdata\\anaconda3\\lib\\site-packages (from ipython->ipython-sql) (0.2.0)\n",
      "Requirement already satisfied: traitlets>=5.13.0 in c:\\programdata\\anaconda3\\lib\\site-packages (from ipython->ipython-sql) (5.14.3)\n",
      "Requirement already satisfied: colorama in c:\\programdata\\anaconda3\\lib\\site-packages (from ipython->ipython-sql) (0.4.6)\n",
      "Requirement already satisfied: wcwidth in c:\\programdata\\anaconda3\\lib\\site-packages (from prettytable->ipython-sql) (0.2.5)\n",
      "Requirement already satisfied: parso<0.9.0,>=0.8.3 in c:\\programdata\\anaconda3\\lib\\site-packages (from jedi>=0.16->ipython->ipython-sql) (0.8.3)\n",
      "Requirement already satisfied: executing in c:\\programdata\\anaconda3\\lib\\site-packages (from stack-data->ipython->ipython-sql) (0.8.3)\n",
      "Requirement already satisfied: asttokens in c:\\programdata\\anaconda3\\lib\\site-packages (from stack-data->ipython->ipython-sql) (2.0.5)\n",
      "Requirement already satisfied: pure-eval in c:\\programdata\\anaconda3\\lib\\site-packages (from stack-data->ipython->ipython-sql) (0.2.2)\n",
      "Downloading ipython_sql-0.5.0-py3-none-any.whl (20 kB)\n",
      "Downloading sqlalchemy-2.0.42-cp312-cp312-win_amd64.whl (2.1 MB)\n",
      "   ---------------------------------------- 0.0/2.1 MB ? eta -:--:--\n",
      "   ---- ----------------------------------- 0.3/2.1 MB ? eta -:--:--\n",
      "   --------- ------------------------------ 0.5/2.1 MB 1.1 MB/s eta 0:00:02\n",
      "   -------------- ------------------------- 0.8/2.1 MB 1.2 MB/s eta 0:00:02\n",
      "   ------------------- -------------------- 1.0/2.1 MB 1.4 MB/s eta 0:00:01\n",
      "   ----------------------------- ---------- 1.6/2.1 MB 1.6 MB/s eta 0:00:01\n",
      "   ---------------------------------------  2.1/2.1 MB 1.7 MB/s eta 0:00:01\n",
      "   ---------------------------------------- 2.1/2.1 MB 1.7 MB/s eta 0:00:00\n",
      "Downloading prettytable-3.16.0-py3-none-any.whl (33 kB)\n",
      "Downloading sqlparse-0.5.3-py3-none-any.whl (44 kB)\n",
      "Installing collected packages: sqlparse, sqlalchemy, prettytable, ipython-sql\n",
      "  Attempting uninstall: sqlalchemy\n",
      "    Found existing installation: SQLAlchemy 1.3.9\n",
      "    Uninstalling SQLAlchemy-1.3.9:\n",
      "      Successfully uninstalled SQLAlchemy-1.3.9\n",
      "Successfully installed ipython-sql-0.5.0 prettytable-3.16.0 sqlalchemy-2.0.42 sqlparse-0.5.3\n",
      "Defaulting to user installation because normal site-packages is not writeable\n",
      "Requirement already satisfied: ipython-sql in c:\\users\\lenovo\\appdata\\roaming\\python\\python312\\site-packages (0.5.0)\n",
      "Requirement already satisfied: prettytable in c:\\users\\lenovo\\appdata\\roaming\\python\\python312\\site-packages (3.16.0)\n",
      "Requirement already satisfied: ipython in c:\\programdata\\anaconda3\\lib\\site-packages (from ipython-sql) (8.27.0)\n",
      "Requirement already satisfied: sqlalchemy>=2.0 in c:\\users\\lenovo\\appdata\\roaming\\python\\python312\\site-packages (from ipython-sql) (2.0.42)\n",
      "Requirement already satisfied: sqlparse in c:\\users\\lenovo\\appdata\\roaming\\python\\python312\\site-packages (from ipython-sql) (0.5.3)\n",
      "Requirement already satisfied: six in c:\\programdata\\anaconda3\\lib\\site-packages (from ipython-sql) (1.16.0)\n",
      "Requirement already satisfied: ipython-genutils in c:\\programdata\\anaconda3\\lib\\site-packages (from ipython-sql) (0.2.0)\n",
      "Requirement already satisfied: wcwidth in c:\\programdata\\anaconda3\\lib\\site-packages (from prettytable) (0.2.5)\n",
      "Requirement already satisfied: greenlet>=1 in c:\\programdata\\anaconda3\\lib\\site-packages (from sqlalchemy>=2.0->ipython-sql) (3.0.1)\n",
      "Requirement already satisfied: typing-extensions>=4.6.0 in c:\\programdata\\anaconda3\\lib\\site-packages (from sqlalchemy>=2.0->ipython-sql) (4.11.0)\n",
      "Requirement already satisfied: decorator in c:\\programdata\\anaconda3\\lib\\site-packages (from ipython->ipython-sql) (5.1.1)\n",
      "Requirement already satisfied: jedi>=0.16 in c:\\programdata\\anaconda3\\lib\\site-packages (from ipython->ipython-sql) (0.19.1)\n",
      "Requirement already satisfied: matplotlib-inline in c:\\programdata\\anaconda3\\lib\\site-packages (from ipython->ipython-sql) (0.1.6)\n",
      "Requirement already satisfied: prompt-toolkit<3.1.0,>=3.0.41 in c:\\programdata\\anaconda3\\lib\\site-packages (from ipython->ipython-sql) (3.0.43)\n",
      "Requirement already satisfied: pygments>=2.4.0 in c:\\programdata\\anaconda3\\lib\\site-packages (from ipython->ipython-sql) (2.15.1)\n",
      "Requirement already satisfied: stack-data in c:\\programdata\\anaconda3\\lib\\site-packages (from ipython->ipython-sql) (0.2.0)\n",
      "Requirement already satisfied: traitlets>=5.13.0 in c:\\programdata\\anaconda3\\lib\\site-packages (from ipython->ipython-sql) (5.14.3)\n",
      "Requirement already satisfied: colorama in c:\\programdata\\anaconda3\\lib\\site-packages (from ipython->ipython-sql) (0.4.6)\n",
      "Requirement already satisfied: parso<0.9.0,>=0.8.3 in c:\\programdata\\anaconda3\\lib\\site-packages (from jedi>=0.16->ipython->ipython-sql) (0.8.3)\n",
      "Requirement already satisfied: executing in c:\\programdata\\anaconda3\\lib\\site-packages (from stack-data->ipython->ipython-sql) (0.8.3)\n",
      "Requirement already satisfied: asttokens in c:\\programdata\\anaconda3\\lib\\site-packages (from stack-data->ipython->ipython-sql) (2.0.5)\n",
      "Requirement already satisfied: pure-eval in c:\\programdata\\anaconda3\\lib\\site-packages (from stack-data->ipython->ipython-sql) (0.2.2)\n"
     ]
    }
   ],
   "source": [
    "# ipython-sql eklentisini yükler. Bu eklenti, Jupyter defterlerinde SQL sorguları çalıştırmayı sağlar.\n",
    "!pip install ipython-sql\n",
    "\n",
    "# ipython-sql ve prettytable paketlerini yükler. PrettyTable, SQL çıktılarının tablo halinde daha okunabilir biçimde görüntülenmesini sağlar.\n",
    "!pip install ipython-sql prettytable\n"
   ]
  },
  {
   "cell_type": "code",
   "execution_count": 3,
   "id": "44b22178-25b6-4534-a41d-e951ac877be7",
   "metadata": {},
   "outputs": [],
   "source": [
    "# SQL uzantısını Jupyter defterine yükler, böylece hücrelerde doğrudan SQL komutları çalıştırılabilir.\n",
    "%load_ext sql"
   ]
  },
  {
   "cell_type": "code",
   "execution_count": 4,
   "id": "851100c2-1c9d-413e-be00-93a7fedb5411",
   "metadata": {},
   "outputs": [],
   "source": [
    "# csv ve sqlite3 modüllerini içe aktarır. csv, CSV dosyalarını okuma/yazma için; sqlite3 ise SQLite veritabanı ile çalışmak içindir.\n",
    "import csv, sqlite3\n",
    "\n",
    "# prettytable modülünü içe aktarır. Bu modül, verileri tablo şeklinde biçimlendirmek için kullanılır.\n",
    "import prettytable\n",
    "\n",
    "# Varsayılan tablo stilini ayarlar.\n",
    "prettytable.DEFAULT = 'DEFAULT'\n",
    "\n",
    "# 'my_data1.db' adlı bir SQLite veritabanı dosyasına bağlanır (eğer yoksa oluşturur).\n",
    "con = sqlite3.connect(\"my_data1.db\")\n",
    "\n",
    "# Veritabanı üzerinde SQL sorguları çalıştırmak için bir imleç (cursor) oluşturur.\n",
    "cur = con.cursor()\n"
   ]
  },
  {
   "cell_type": "code",
   "execution_count": 5,
   "id": "7b5cf555-718a-4c94-88fe-31424856ec4e",
   "metadata": {},
   "outputs": [],
   "source": [
    "# pandas kütüphanesini sessiz modda (ekrana fazla çıktı vermeden) yükler. \n",
    "# pandas, veri analizi ve veri işleme işlemleri için yaygın olarak kullanılır.\n",
    "!pip install -q pandas"
   ]
  },
  {
   "cell_type": "code",
   "execution_count": 6,
   "id": "f3b07417-7e7c-41d6-9f9a-9340a4e89b0e",
   "metadata": {},
   "outputs": [],
   "source": [
    "# SQL sihirli komutuyla SQLite veritabanına bağlanılır.\n",
    "# Burada 'my_data1.db' adlı yerel SQLite veritabanı dosyasına bağlantı kurulur.\n",
    "%sql sqlite:///my_data1.db"
   ]
  },
  {
   "cell_type": "code",
   "execution_count": 7,
   "id": "609d7549-1611-4f95-809c-227a95bcd758",
   "metadata": {},
   "outputs": [
    {
     "data": {
      "text/plain": [
       "101"
      ]
     },
     "execution_count": 7,
     "metadata": {},
     "output_type": "execute_result"
    }
   ],
   "source": [
    "# pandas kütüphanesini içe aktarır. Bu kütüphane, veri analizi ve veri işleme için kullanılır.\n",
    "import pandas as pd\n",
    "\n",
    "# SpaceX veri setini internetten CSV formatında okur ve bir pandas DataFrame'ine yükler.\n",
    "df = pd.read_csv(\"https://cf-courses-data.s3.us.cloud-object-storage.appdomain.cloud/IBM-DS0321EN-SkillsNetwork/labs/module_2/data/Spacex.csv\")\n",
    "\n",
    "# DataFrame'deki verileri 'SPACEXTBL' adında bir tablo olarak SQLite veritabanına kaydeder.\n",
    "# Eğer tablo zaten varsa, üzerine yazar (if_exists='replace').\n",
    "# 'index=False' parametresi, DataFrame'in indeks sütununun tabloya yazılmamasını sağlar.\n",
    "# 'method=\"multi\"' ise çoklu satır eklemeyi optimize eder, daha hızlı veri aktarımı sağlar.\n",
    "df.to_sql(\"SPACEXTBL\", con, if_exists='replace', index=False, method=\"multi\")\n"
   ]
  },
  {
   "cell_type": "markdown",
   "id": "b801f39f-c2fb-48cd-82ca-2839e36024ae",
   "metadata": {},
   "source": [
    "**Not: Aşağıdaki kod, tablodaki boş (içeriği olmayan) satırları kaldırmak için eklenmiştir.**\n"
   ]
  },
  {
   "cell_type": "code",
   "execution_count": 8,
   "id": "7720ea3e-9e85-4431-b384-63ec8ebc1481",
   "metadata": {},
   "outputs": [
    {
     "name": "stdout",
     "output_type": "stream",
     "text": [
      " * sqlite:///my_data1.db\n",
      "Done.\n"
     ]
    },
    {
     "data": {
      "text/plain": [
       "[]"
      ]
     },
     "execution_count": 8,
     "metadata": {},
     "output_type": "execute_result"
    }
   ],
   "source": [
    "# Eğer SPACEXTABLE adında bir tablo varsa, onu siler.\n",
    "# Bu, tabloyu yeniden oluşturmak veya veri temizliği yapmak amacıyla kullanılır.\n",
    "\n",
    "%sql DROP TABLE IF EXISTS SPACEXTABLE;\n"
   ]
  },
  {
   "cell_type": "code",
   "execution_count": 9,
   "id": "44a7ea43-a22b-4b63-a836-cd8825f4ea45",
   "metadata": {},
   "outputs": [
    {
     "name": "stdout",
     "output_type": "stream",
     "text": [
      " * sqlite:///my_data1.db\n",
      "Done.\n"
     ]
    },
    {
     "data": {
      "text/plain": [
       "[]"
      ]
     },
     "execution_count": 9,
     "metadata": {},
     "output_type": "execute_result"
    }
   ],
   "source": [
    "# SPACEXTABLE adında yeni bir tablo oluşturur.\n",
    "# Bu tablo, SPACEXTBL tablosundaki \"Date\" sütunu boş olmayan (null olmayan) satırları içerir.\n",
    "# Böylece \"Date\" sütunu boş olan kayıtlar bu yeni tabloda yer almaz.\n",
    "%sql create table SPACEXTABLE as select * from SPACEXTBL where Date is not null"
   ]
  },
  {
   "cell_type": "markdown",
   "id": "76c4a8c7-b9a7-4080-97b6-a215a3ce6543",
   "metadata": {},
   "source": [
    "### Görevler\n",
    "\n",
    "Şimdi, ödev görevlerini çözmek için SQL sorguları yazıp çalıştırın.\n",
    "\n",
    "**Not:** Eğer sütun isimleri büyük-küçük harf karışık ise, çift tırnak içine alın. Örneğin `\"Landing_Outcome\"`.\n",
    "\n",
    "---\n",
    "\n",
    "### Görev 1\n",
    "\n",
    "Uzay görevlerindeki benzersiz (tekrarsız) fırlatma noktalarının isimlerini görüntüleyin.\n"
   ]
  },
  {
   "cell_type": "code",
   "execution_count": 10,
   "id": "0dab9201-0c5b-4f30-8064-f22901ddfe39",
   "metadata": {},
   "outputs": [
    {
     "name": "stdout",
     "output_type": "stream",
     "text": [
      " * sqlite:///my_data1.db\n",
      "Done.\n"
     ]
    },
    {
     "data": {
      "text/html": [
       "<table>\n",
       "    <thead>\n",
       "        <tr>\n",
       "            <th>Launch_Site</th>\n",
       "        </tr>\n",
       "    </thead>\n",
       "    <tbody>\n",
       "        <tr>\n",
       "            <td>CCAFS LC-40</td>\n",
       "        </tr>\n",
       "        <tr>\n",
       "            <td>VAFB SLC-4E</td>\n",
       "        </tr>\n",
       "        <tr>\n",
       "            <td>KSC LC-39A</td>\n",
       "        </tr>\n",
       "        <tr>\n",
       "            <td>CCAFS SLC-40</td>\n",
       "        </tr>\n",
       "    </tbody>\n",
       "</table>"
      ],
      "text/plain": [
       "[('CCAFS LC-40',), ('VAFB SLC-4E',), ('KSC LC-39A',), ('CCAFS SLC-40',)]"
      ]
     },
     "execution_count": 10,
     "metadata": {},
     "output_type": "execute_result"
    }
   ],
   "source": [
    "%sql SELECT DISTINCT \"Launch_Site\" FROM SPACEXTABLE;"
   ]
  },
  {
   "cell_type": "markdown",
   "id": "4851a38a-a98b-47fa-9350-75aa335c569b",
   "metadata": {},
   "source": [
    "### Görev 2\n",
    "\n",
    "Fırlatma noktası adı **'CCA'** ile başlayan 5 kaydı görüntüleyin.\n"
   ]
  },
  {
   "cell_type": "code",
   "execution_count": 11,
   "id": "3e167ca8-5716-49ff-97b9-da6e5cec0fdf",
   "metadata": {},
   "outputs": [
    {
     "name": "stdout",
     "output_type": "stream",
     "text": [
      " * sqlite:///my_data1.db\n",
      "Done.\n"
     ]
    },
    {
     "data": {
      "text/html": [
       "<table>\n",
       "    <thead>\n",
       "        <tr>\n",
       "            <th>Date</th>\n",
       "            <th>Time (UTC)</th>\n",
       "            <th>Booster_Version</th>\n",
       "            <th>Launch_Site</th>\n",
       "            <th>Payload</th>\n",
       "            <th>PAYLOAD_MASS__KG_</th>\n",
       "            <th>Orbit</th>\n",
       "            <th>Customer</th>\n",
       "            <th>Mission_Outcome</th>\n",
       "            <th>Landing_Outcome</th>\n",
       "        </tr>\n",
       "    </thead>\n",
       "    <tbody>\n",
       "        <tr>\n",
       "            <td>2010-06-04</td>\n",
       "            <td>18:45:00</td>\n",
       "            <td>F9 v1.0  B0003</td>\n",
       "            <td>CCAFS LC-40</td>\n",
       "            <td>Dragon Spacecraft Qualification Unit</td>\n",
       "            <td>0</td>\n",
       "            <td>LEO</td>\n",
       "            <td>SpaceX</td>\n",
       "            <td>Success</td>\n",
       "            <td>Failure (parachute)</td>\n",
       "        </tr>\n",
       "        <tr>\n",
       "            <td>2010-12-08</td>\n",
       "            <td>15:43:00</td>\n",
       "            <td>F9 v1.0  B0004</td>\n",
       "            <td>CCAFS LC-40</td>\n",
       "            <td>Dragon demo flight C1, two CubeSats, barrel of Brouere cheese</td>\n",
       "            <td>0</td>\n",
       "            <td>LEO (ISS)</td>\n",
       "            <td>NASA (COTS) NRO</td>\n",
       "            <td>Success</td>\n",
       "            <td>Failure (parachute)</td>\n",
       "        </tr>\n",
       "        <tr>\n",
       "            <td>2012-05-22</td>\n",
       "            <td>7:44:00</td>\n",
       "            <td>F9 v1.0  B0005</td>\n",
       "            <td>CCAFS LC-40</td>\n",
       "            <td>Dragon demo flight C2</td>\n",
       "            <td>525</td>\n",
       "            <td>LEO (ISS)</td>\n",
       "            <td>NASA (COTS)</td>\n",
       "            <td>Success</td>\n",
       "            <td>No attempt</td>\n",
       "        </tr>\n",
       "        <tr>\n",
       "            <td>2012-10-08</td>\n",
       "            <td>0:35:00</td>\n",
       "            <td>F9 v1.0  B0006</td>\n",
       "            <td>CCAFS LC-40</td>\n",
       "            <td>SpaceX CRS-1</td>\n",
       "            <td>500</td>\n",
       "            <td>LEO (ISS)</td>\n",
       "            <td>NASA (CRS)</td>\n",
       "            <td>Success</td>\n",
       "            <td>No attempt</td>\n",
       "        </tr>\n",
       "        <tr>\n",
       "            <td>2013-03-01</td>\n",
       "            <td>15:10:00</td>\n",
       "            <td>F9 v1.0  B0007</td>\n",
       "            <td>CCAFS LC-40</td>\n",
       "            <td>SpaceX CRS-2</td>\n",
       "            <td>677</td>\n",
       "            <td>LEO (ISS)</td>\n",
       "            <td>NASA (CRS)</td>\n",
       "            <td>Success</td>\n",
       "            <td>No attempt</td>\n",
       "        </tr>\n",
       "    </tbody>\n",
       "</table>"
      ],
      "text/plain": [
       "[('2010-06-04', '18:45:00', 'F9 v1.0  B0003', 'CCAFS LC-40', 'Dragon Spacecraft Qualification Unit', 0, 'LEO', 'SpaceX', 'Success', 'Failure (parachute)'),\n",
       " ('2010-12-08', '15:43:00', 'F9 v1.0  B0004', 'CCAFS LC-40', 'Dragon demo flight C1, two CubeSats, barrel of Brouere cheese', 0, 'LEO (ISS)', 'NASA (COTS) NRO', 'Success', 'Failure (parachute)'),\n",
       " ('2012-05-22', '7:44:00', 'F9 v1.0  B0005', 'CCAFS LC-40', 'Dragon demo flight C2', 525, 'LEO (ISS)', 'NASA (COTS)', 'Success', 'No attempt'),\n",
       " ('2012-10-08', '0:35:00', 'F9 v1.0  B0006', 'CCAFS LC-40', 'SpaceX CRS-1', 500, 'LEO (ISS)', 'NASA (CRS)', 'Success', 'No attempt'),\n",
       " ('2013-03-01', '15:10:00', 'F9 v1.0  B0007', 'CCAFS LC-40', 'SpaceX CRS-2', 677, 'LEO (ISS)', 'NASA (CRS)', 'Success', 'No attempt')]"
      ]
     },
     "execution_count": 11,
     "metadata": {},
     "output_type": "execute_result"
    }
   ],
   "source": [
    "%sql SELECT * FROM SPACEXTABLE WHERE \"Launch_Site\" LIKE 'CCA%' LIMIT 5;"
   ]
  },
  {
   "cell_type": "markdown",
   "id": "8429220f-66f5-43e5-aaa9-35e805fe5432",
   "metadata": {},
   "source": [
    "\n",
    "### Görev 3\n",
    "\n",
    "NASA (CRS) müşterisi için taşınan toplam yük ağırlığını bulun.\n"
   ]
  },
  {
   "cell_type": "code",
   "execution_count": 12,
   "id": "6925331d-7831-4ee5-ae10-8ff8498e644a",
   "metadata": {},
   "outputs": [
    {
     "name": "stdout",
     "output_type": "stream",
     "text": [
      " * sqlite:///my_data1.db\n",
      "Done.\n"
     ]
    },
    {
     "data": {
      "text/html": [
       "<table>\n",
       "    <thead>\n",
       "        <tr>\n",
       "            <th>Total_Payload_Mass</th>\n",
       "        </tr>\n",
       "    </thead>\n",
       "    <tbody>\n",
       "        <tr>\n",
       "            <td>45596</td>\n",
       "        </tr>\n",
       "    </tbody>\n",
       "</table>"
      ],
      "text/plain": [
       "[(45596,)]"
      ]
     },
     "execution_count": 12,
     "metadata": {},
     "output_type": "execute_result"
    }
   ],
   "source": [
    "%sql SELECT SUM(\"Payload_Mass__kg_\") AS Total_Payload_Mass FROM SPACEXTABLE WHERE \"Customer\" = 'NASA (CRS)';\n",
    "\n",
    "# SUM(\"Payload_Mass__kg_\"): Payload_Mass__kg_ sütunundaki tüm değerleri toplar.\n",
    "# AS Total_Payload_Mass: Toplam sonucu “Total_Payload_Mass” olarak isimlendirir (daha okunaklı olur).\n",
    "# WHERE \"Customer\" = 'NASA (CRS)': Sadece müşteri NASA (CRS) olan satırları seçer."
   ]
  },
  {
   "cell_type": "markdown",
   "id": "cf644605-e653-48c5-9f7d-9260c5f2f151",
   "metadata": {},
   "source": [
    "### Görev 4\n",
    "\n",
    "“F9 v1.1” adlı güçlendirici (booster) versiyonu tarafından taşınan yüklerin **ortalama ağırlığını** bulun.\n"
   ]
  },
  {
   "cell_type": "code",
   "execution_count": 13,
   "id": "5b100a20-cd34-4343-ac07-268ac3e89e2f",
   "metadata": {},
   "outputs": [
    {
     "name": "stdout",
     "output_type": "stream",
     "text": [
      " * sqlite:///my_data1.db\n",
      "Done.\n"
     ]
    },
    {
     "data": {
      "text/html": [
       "<table>\n",
       "    <thead>\n",
       "        <tr>\n",
       "            <th>Average_Payload_Mass</th>\n",
       "        </tr>\n",
       "    </thead>\n",
       "    <tbody>\n",
       "        <tr>\n",
       "            <td>2928.4</td>\n",
       "        </tr>\n",
       "    </tbody>\n",
       "</table>"
      ],
      "text/plain": [
       "[(2928.4,)]"
      ]
     },
     "execution_count": 13,
     "metadata": {},
     "output_type": "execute_result"
    }
   ],
   "source": [
    "%sql SELECT AVG(\"Payload_Mass__kg_\") AS Average_Payload_Mass FROM SPACEXTABLE WHERE \"Booster_Version\" = 'F9 v1.1';"
   ]
  },
  {
   "cell_type": "markdown",
   "id": "cd6e552c-fe80-49ae-bcee-6b3d2800ece1",
   "metadata": {},
   "source": [
    "### Görev 5\n",
    "\n",
    "Landing_Outcome sütununda ‘Success (ground pad)’ olan, **yani yer tabanındaki platformda gerçekleşen ilk başarılı inişin tarihini bulun.**\n",
    "\n",
    "**İpucu:** `MIN` fonksiyonunu kullanın.\n"
   ]
  },
  {
   "cell_type": "code",
   "execution_count": 14,
   "id": "cef8f5d7-8a0e-47e6-b1cf-23fe80ea7bf9",
   "metadata": {},
   "outputs": [
    {
     "name": "stdout",
     "output_type": "stream",
     "text": [
      " * sqlite:///my_data1.db\n",
      "Done.\n"
     ]
    },
    {
     "data": {
      "text/html": [
       "<table>\n",
       "    <thead>\n",
       "        <tr>\n",
       "            <th>First_Successful_Landing_Date</th>\n",
       "        </tr>\n",
       "    </thead>\n",
       "    <tbody>\n",
       "        <tr>\n",
       "            <td>2015-12-22</td>\n",
       "        </tr>\n",
       "    </tbody>\n",
       "</table>"
      ],
      "text/plain": [
       "[('2015-12-22',)]"
      ]
     },
     "execution_count": 14,
     "metadata": {},
     "output_type": "execute_result"
    }
   ],
   "source": [
    "%sql SELECT MIN(\"Date\") AS First_Successful_Landing_Date FROM SPACEXTABLE WHERE \"Landing_Outcome\" = 'Success (ground pad)';"
   ]
  },
  {
   "cell_type": "markdown",
   "id": "01d8fa78-b16c-4db9-a828-91890edd5ef9",
   "metadata": {},
   "source": [
    "### Görev 6\n",
    "\n",
    "Drone gemisinde (drone ship) başarılı iniş yapan, yükü 4000 kg’dan büyük ve 6000 kg’dan küçük olan güçlendiricilerin (booster) isimlerini listele.\n"
   ]
  },
  {
   "cell_type": "code",
   "execution_count": 18,
   "id": "b126ab09-7d60-45e7-890d-a18d153ddd3e",
   "metadata": {},
   "outputs": [
    {
     "name": "stdout",
     "output_type": "stream",
     "text": [
      " * sqlite:///my_data1.db\n",
      "Done.\n"
     ]
    },
    {
     "data": {
      "text/html": [
       "<table>\n",
       "    <thead>\n",
       "        <tr>\n",
       "            <th>Booster_Version</th>\n",
       "        </tr>\n",
       "    </thead>\n",
       "    <tbody>\n",
       "        <tr>\n",
       "            <td>F9 FT B1022</td>\n",
       "        </tr>\n",
       "        <tr>\n",
       "            <td>F9 FT B1026</td>\n",
       "        </tr>\n",
       "        <tr>\n",
       "            <td>F9 FT  B1021.2</td>\n",
       "        </tr>\n",
       "        <tr>\n",
       "            <td>F9 FT  B1031.2</td>\n",
       "        </tr>\n",
       "    </tbody>\n",
       "</table>"
      ],
      "text/plain": [
       "[('F9 FT B1022',), ('F9 FT B1026',), ('F9 FT  B1021.2',), ('F9 FT  B1031.2',)]"
      ]
     },
     "execution_count": 18,
     "metadata": {},
     "output_type": "execute_result"
    }
   ],
   "source": [
    "# \"Landing_Outcome\" sütununda değer 'Success (drone ship)' olan kayıtları alıyoruz. Yani iniş drone gemisinde başarıyla olmuş.\n",
    "# \"Payload_Mass__kg_\" sütununda değer 4000’den büyük ve 6000’den küçük olanları seçiyoruz. Yani yük ağırlığı belirtilen aralıkta.\n",
    "# Sonra bu kayıtların \"Booster_Version\" sütunundaki isimlerini listeliyoruz.\n",
    "# Aynı ismin tekrar çıkmaması için DISTINCT kullanıyoruz.\n",
    "\n",
    "%sql SELECT DISTINCT \"Booster_Version\" FROM SPACEXTABLE WHERE \"Landing_Outcome\" = 'Success (drone ship)' AND \"Payload_Mass__kg_\" > 4000 AND \"Payload_Mass__kg_\" < 6000;"
   ]
  },
  {
   "cell_type": "markdown",
   "id": "1c736b69-886e-4eb3-a1d1-852ba49bb27b",
   "metadata": {},
   "source": [
    "\n",
    "### Görev 7\n",
    "\n",
    "Başarılı ve başarısız olan görevlerin toplam sayısını listeleyin."
   ]
  },
  {
   "cell_type": "code",
   "execution_count": 20,
   "id": "488578f4-367d-4070-b126-464b85cf6664",
   "metadata": {},
   "outputs": [
    {
     "name": "stdout",
     "output_type": "stream",
     "text": [
      " * sqlite:///my_data1.db\n",
      "Done.\n"
     ]
    },
    {
     "data": {
      "text/html": [
       "<table>\n",
       "    <thead>\n",
       "        <tr>\n",
       "            <th>Mission_Outcome</th>\n",
       "            <th>Outcome_Count</th>\n",
       "        </tr>\n",
       "    </thead>\n",
       "    <tbody>\n",
       "        <tr>\n",
       "            <td>Failure (in flight)</td>\n",
       "            <td>1</td>\n",
       "        </tr>\n",
       "        <tr>\n",
       "            <td>Success</td>\n",
       "            <td>98</td>\n",
       "        </tr>\n",
       "        <tr>\n",
       "            <td>Success </td>\n",
       "            <td>1</td>\n",
       "        </tr>\n",
       "        <tr>\n",
       "            <td>Success (payload status unclear)</td>\n",
       "            <td>1</td>\n",
       "        </tr>\n",
       "    </tbody>\n",
       "</table>"
      ],
      "text/plain": [
       "[('Failure (in flight)', 1),\n",
       " ('Success', 98),\n",
       " ('Success ', 1),\n",
       " ('Success (payload status unclear)', 1)]"
      ]
     },
     "execution_count": 20,
     "metadata": {},
     "output_type": "execute_result"
    }
   ],
   "source": [
    "# \"Mission_Outcome\" sütunundaki her farklı değeri gruplar (örneğin: Success, Failure).\n",
    "# Her grup için o görevin kaç kez tekrarlandığını sayar (COUNT(*)).\n",
    "# Böylece kaç başarılı ve kaç başarısız görev olduğu listelenir.\n",
    "%sql SELECT \"Mission_Outcome\", COUNT(*) AS Outcome_Count FROM SPACEXTABLE GROUP BY \"Mission_Outcome\";\n"
   ]
  },
  {
   "cell_type": "markdown",
   "id": "82330425-7dc8-4068-9cc0-d599e9fda4f4",
   "metadata": {},
   "source": [
    "### Görev 8\n",
    "\n",
    "Uygun bir toplama (aggregate) fonksiyonu ve alt sorgu (subquery) kullanarak, en yüksek yük kütlesini taşıyan tüm güçlendirici versiyonlarını listeleyin.\n"
   ]
  },
  {
   "cell_type": "code",
   "execution_count": 21,
   "id": "ba597d73-a4c8-4bee-9801-19f43f52516f",
   "metadata": {},
   "outputs": [
    {
     "name": "stdout",
     "output_type": "stream",
     "text": [
      " * sqlite:///my_data1.db\n",
      "Done.\n"
     ]
    },
    {
     "data": {
      "text/html": [
       "<table>\n",
       "    <thead>\n",
       "        <tr>\n",
       "            <th>Booster_Version</th>\n",
       "            <th>PAYLOAD_MASS__KG_</th>\n",
       "        </tr>\n",
       "    </thead>\n",
       "    <tbody>\n",
       "        <tr>\n",
       "            <td>F9 B5 B1048.4</td>\n",
       "            <td>15600</td>\n",
       "        </tr>\n",
       "        <tr>\n",
       "            <td>F9 B5 B1049.4</td>\n",
       "            <td>15600</td>\n",
       "        </tr>\n",
       "        <tr>\n",
       "            <td>F9 B5 B1051.3</td>\n",
       "            <td>15600</td>\n",
       "        </tr>\n",
       "        <tr>\n",
       "            <td>F9 B5 B1056.4</td>\n",
       "            <td>15600</td>\n",
       "        </tr>\n",
       "        <tr>\n",
       "            <td>F9 B5 B1048.5</td>\n",
       "            <td>15600</td>\n",
       "        </tr>\n",
       "        <tr>\n",
       "            <td>F9 B5 B1051.4</td>\n",
       "            <td>15600</td>\n",
       "        </tr>\n",
       "        <tr>\n",
       "            <td>F9 B5 B1049.5</td>\n",
       "            <td>15600</td>\n",
       "        </tr>\n",
       "        <tr>\n",
       "            <td>F9 B5 B1060.2 </td>\n",
       "            <td>15600</td>\n",
       "        </tr>\n",
       "        <tr>\n",
       "            <td>F9 B5 B1058.3 </td>\n",
       "            <td>15600</td>\n",
       "        </tr>\n",
       "        <tr>\n",
       "            <td>F9 B5 B1051.6</td>\n",
       "            <td>15600</td>\n",
       "        </tr>\n",
       "        <tr>\n",
       "            <td>F9 B5 B1060.3</td>\n",
       "            <td>15600</td>\n",
       "        </tr>\n",
       "        <tr>\n",
       "            <td>F9 B5 B1049.7 </td>\n",
       "            <td>15600</td>\n",
       "        </tr>\n",
       "    </tbody>\n",
       "</table>"
      ],
      "text/plain": [
       "[('F9 B5 B1048.4', 15600),\n",
       " ('F9 B5 B1049.4', 15600),\n",
       " ('F9 B5 B1051.3', 15600),\n",
       " ('F9 B5 B1056.4', 15600),\n",
       " ('F9 B5 B1048.5', 15600),\n",
       " ('F9 B5 B1051.4', 15600),\n",
       " ('F9 B5 B1049.5', 15600),\n",
       " ('F9 B5 B1060.2 ', 15600),\n",
       " ('F9 B5 B1058.3 ', 15600),\n",
       " ('F9 B5 B1051.6', 15600),\n",
       " ('F9 B5 B1060.3', 15600),\n",
       " ('F9 B5 B1049.7 ', 15600)]"
      ]
     },
     "execution_count": 21,
     "metadata": {},
     "output_type": "execute_result"
    }
   ],
   "source": [
    "# Alt sorgu (SELECT MAX(\"Payload_Mass__kg_\") FROM SPACEXTABLE) tablodaki en büyük yük kütlesini bulur.\n",
    "#Dış sorgu ise bu maksimum değere sahip tüm güçlendiricileri listeler.\n",
    "\n",
    "%sql SELECT \"Booster_Version\", \"Payload_Mass__kg_\" FROM SPACEXTABLE WHERE \"Payload_Mass__kg_\" = (SELECT MAX(\"Payload_Mass__kg_\") FROM SPACEXTABLE);\n"
   ]
  },
  {
   "cell_type": "markdown",
   "id": "9dc0ee31-e55b-42d0-9591-bb441f9ab402",
   "metadata": {},
   "source": [
    "\n",
    "### Görev 9\n",
    "\n",
    "2015 yılına ait aylarda gerçekleşen, drone gemisinde başarısız iniş sonucu (failure landing outcomes) olan görevlerin;\n",
    "\n",
    "* Ay isimlerini (month names),\n",
    "* Başarısız iniş sonuçlarını (failure landing outcomes),\n",
    "* Güçlendirici versiyonlarını (booster versions),\n",
    "* Fırlatma noktalarını (launch\\_site)\n",
    "\n",
    "listeleyen kayıtları görüntüleyin.\n",
    "\n",
    "**Not:** SQLite, ay isimlerini desteklemediği için;\n",
    "\n",
    "* Ayları almak için `substr(Date, 6, 2)` kullanmalısınız.\n",
    "* Yılı filtrelemek için `substr(Date, 0, 5) = '2015'` kullanmalısınız.\n",
    "\n"
   ]
  },
  {
   "cell_type": "code",
   "execution_count": 23,
   "id": "b958e0ca-15b7-421f-bc78-a80baf79552d",
   "metadata": {},
   "outputs": [
    {
     "name": "stdout",
     "output_type": "stream",
     "text": [
      " * sqlite:///my_data1.db\n",
      "Done.\n"
     ]
    },
    {
     "data": {
      "text/html": [
       "<table>\n",
       "    <thead>\n",
       "        <tr>\n",
       "            <th>Month_Name</th>\n",
       "            <th>Landing_Outcome</th>\n",
       "            <th>Booster_Version</th>\n",
       "            <th>Launch_Site</th>\n",
       "        </tr>\n",
       "    </thead>\n",
       "    <tbody>\n",
       "        <tr>\n",
       "            <td>January</td>\n",
       "            <td>Failure (drone ship)</td>\n",
       "            <td>F9 v1.1 B1012</td>\n",
       "            <td>CCAFS LC-40</td>\n",
       "        </tr>\n",
       "        <tr>\n",
       "            <td>April</td>\n",
       "            <td>Failure (drone ship)</td>\n",
       "            <td>F9 v1.1 B1015</td>\n",
       "            <td>CCAFS LC-40</td>\n",
       "        </tr>\n",
       "    </tbody>\n",
       "</table>"
      ],
      "text/plain": [
       "[('January', 'Failure (drone ship)', 'F9 v1.1 B1012', 'CCAFS LC-40'),\n",
       " ('April', 'Failure (drone ship)', 'F9 v1.1 B1015', 'CCAFS LC-40')]"
      ]
     },
     "execution_count": 23,
     "metadata": {},
     "output_type": "execute_result"
    }
   ],
   "source": [
    "# YYYY-MM-DD\n",
    "# substr(\"Date\", 1, 4)- Burada \"Date\" stringinin 1. karakterinden başlayarak 4 karakter al demektir. Yani: \"2015\" (yıl)\n",
    "# substr(\"Date\", 6, 2)- Burada \"Date\" stringinin 6. karakterinden başlayarak 2 karakter al demektir. Yani: \"03\" (ay)\n",
    "\n",
    "#substr(\"Date\", 6, 2) ile tarih sütunundan ay kısmını alıyoruz.\n",
    "# CASE ile ay numarasını ay ismine çeviriyoruz.\n",
    "# substr(\"Date\", 1, 4) = '2015' ile sadece 2015 yılına ait kayıtları seçiyoruz.\n",
    "# \"Landing_Outcome\" sütununda hem ‘Failure’ hem de ‘drone ship’ geçen kayıtları filtreliyoruz.\n",
    "\n",
    "%sql SELECT CASE substr(\"Date\", 6, 2) WHEN '01' THEN 'January' WHEN '02' THEN 'February' WHEN '03' THEN 'March' WHEN '04' THEN 'April' WHEN '05' THEN 'May' WHEN '06' THEN 'June' WHEN '07' THEN 'July' WHEN '08' THEN 'August' WHEN '09' THEN 'September' WHEN '10' THEN 'October' WHEN '11' THEN 'November' WHEN '12' THEN 'December' END AS Month_Name, \"Landing_Outcome\", \"Booster_Version\", \"Launch_Site\" FROM SPACEXTABLE WHERE substr(\"Date\", 1, 4) = '2015' AND \"Landing_Outcome\" LIKE '%Failure%' AND \"Landing_Outcome\" LIKE '%drone ship%';\n"
   ]
  },
  {
   "cell_type": "markdown",
   "id": "acb00adb-80a3-41d4-bd2d-2e4e2dcd5f3c",
   "metadata": {},
   "source": [
    "### Görev 10\n",
    "\n",
    "2010-06-04 ile 2017-03-20 tarihleri arasında gerçekleşen iniş sonuçlarının (örneğin, Failure (drone ship) veya Success (ground pad) gibi) sayısını, azalan (büyükten küçüğe) sıralayarak listeleyin.\n"
   ]
  },
  {
   "cell_type": "code",
   "execution_count": 24,
   "id": "a041d4ab-e5fc-4f6d-a191-af68b4a85dd1",
   "metadata": {},
   "outputs": [
    {
     "name": "stdout",
     "output_type": "stream",
     "text": [
      " * sqlite:///my_data1.db\n",
      "Done.\n"
     ]
    },
    {
     "data": {
      "text/html": [
       "<table>\n",
       "    <thead>\n",
       "        <tr>\n",
       "            <th>Landing_Outcome</th>\n",
       "            <th>Outcome_Count</th>\n",
       "        </tr>\n",
       "    </thead>\n",
       "    <tbody>\n",
       "        <tr>\n",
       "            <td>No attempt</td>\n",
       "            <td>10</td>\n",
       "        </tr>\n",
       "        <tr>\n",
       "            <td>Success (drone ship)</td>\n",
       "            <td>5</td>\n",
       "        </tr>\n",
       "        <tr>\n",
       "            <td>Failure (drone ship)</td>\n",
       "            <td>5</td>\n",
       "        </tr>\n",
       "        <tr>\n",
       "            <td>Success (ground pad)</td>\n",
       "            <td>3</td>\n",
       "        </tr>\n",
       "        <tr>\n",
       "            <td>Controlled (ocean)</td>\n",
       "            <td>3</td>\n",
       "        </tr>\n",
       "        <tr>\n",
       "            <td>Uncontrolled (ocean)</td>\n",
       "            <td>2</td>\n",
       "        </tr>\n",
       "        <tr>\n",
       "            <td>Failure (parachute)</td>\n",
       "            <td>2</td>\n",
       "        </tr>\n",
       "        <tr>\n",
       "            <td>Precluded (drone ship)</td>\n",
       "            <td>1</td>\n",
       "        </tr>\n",
       "    </tbody>\n",
       "</table>"
      ],
      "text/plain": [
       "[('No attempt', 10),\n",
       " ('Success (drone ship)', 5),\n",
       " ('Failure (drone ship)', 5),\n",
       " ('Success (ground pad)', 3),\n",
       " ('Controlled (ocean)', 3),\n",
       " ('Uncontrolled (ocean)', 2),\n",
       " ('Failure (parachute)', 2),\n",
       " ('Precluded (drone ship)', 1)]"
      ]
     },
     "execution_count": 24,
     "metadata": {},
     "output_type": "execute_result"
    }
   ],
   "source": [
    "# \"Date\" BETWEEN '2010-06-04' AND '2017-03-20' ile verilen tarih aralığındaki kayıtları filtreler.\n",
    "# \"Landing_Outcome\" sütununa göre gruplar ve her grubun sayısını (COUNT(*)) hesaplar.\n",
    "# Sonuçları iniş sayısına göre azalan sırada listeler.\n",
    "%sql SELECT \"Landing_Outcome\", COUNT(*) AS Outcome_Count FROM SPACEXTABLE WHERE \"Date\" BETWEEN '2010-06-04' AND '2017-03-20' GROUP BY \"Landing_Outcome\" ORDER BY Outcome_Count DESC;\n"
   ]
  },
  {
   "cell_type": "code",
   "execution_count": null,
   "id": "df2a56a4-be12-44be-b90e-a9241cc9d265",
   "metadata": {},
   "outputs": [],
   "source": []
  }
 ],
 "metadata": {
  "kernelspec": {
   "display_name": "Python 3 (ipykernel)",
   "language": "python",
   "name": "python3"
  },
  "language_info": {
   "codemirror_mode": {
    "name": "ipython",
    "version": 3
   },
   "file_extension": ".py",
   "mimetype": "text/x-python",
   "name": "python",
   "nbconvert_exporter": "python",
   "pygments_lexer": "ipython3",
   "version": "3.12.7"
  }
 },
 "nbformat": 4,
 "nbformat_minor": 5
}
